{
 "cells": [
  {
   "cell_type": "code",
   "id": "41cd16251b6448b",
   "metadata": {
    "collapsed": false,
    "jupyter": {
     "outputs_hidden": false
    },
    "ExecuteTime": {
     "end_time": "2024-10-22T18:57:48.629731Z",
     "start_time": "2024-10-22T18:57:46.923847Z"
    }
   },
   "source": [
    "import torch\n",
    "import torch.nn as nn\n",
    "import torch.utils.data as data\n",
    "import torchmetrics\n",
    "import torchvision as tv\n",
    "\n",
    "import lightning as L\n",
    "import matplotlib.pyplot as plt\n",
    "import numpy as np\n",
    "\n",
    "# Identical code as file `lightning-ai-demo-cpu.ipynb`. The only difference is the output. I'm running this Jupyter notebook on my Macbook Pro M2 with built-in GPU. Lightning (formerly named pytorch-lightning) will detect the GPU and use it if possible.\n",
    "\n",
    "print(\"Using torch\", torch.__version__)\n",
    "print(\"Using lightning\", L.__version__)"
   ],
   "outputs": [
    {
     "name": "stdout",
     "output_type": "stream",
     "text": [
      "Using torch 2.5.0\n",
      "Using lightning 2.4.0\n"
     ]
    }
   ],
   "execution_count": 1
  },
  {
   "cell_type": "code",
   "id": "5748d0b5a58da137",
   "metadata": {
    "collapsed": false,
    "jupyter": {
     "outputs_hidden": false
    },
    "ExecuteTime": {
     "end_time": "2024-10-22T18:57:51.461324Z",
     "start_time": "2024-10-22T18:57:51.352987Z"
    }
   },
   "source": [
    "# --------------------\n",
    "# Load Dataset - MNIST\n",
    "# --------------------\n",
    "\n",
    "# dataset: tuple[tensor of shape (N, R, C), label: int]\n",
    "dataset = tv.datasets.MNIST(root=\".\", download=True, transform=tv.transforms.ToTensor())\n",
    "train, val, test = data.random_split(dataset, [55000, 4000, 1000], torch.Generator().manual_seed(42))\n",
    "\n",
    "# visualize\n",
    "n = 44\n",
    "image, label = train[n]\n",
    "print(f\"Number of training samples: {len(train)}\")\n",
    "print(f\"Number of validation samples: {len(val)}\")\n",
    "print(f\"Number of test samples: {len(test)}\")\n",
    "print(f\"Shape of image: {image.shape}\")\n",
    "print(f\"Label for this image: {label}\")\n",
    "plt.imshow(image.squeeze(), cmap=\"gray\")"
   ],
   "outputs": [
    {
     "name": "stdout",
     "output_type": "stream",
     "text": [
      "Number of training samples: 55000\n",
      "Number of validation samples: 4000\n",
      "Number of test samples: 1000\n",
      "Shape of image: torch.Size([1, 28, 28])\n",
      "Label for this image: 3\n"
     ]
    },
    {
     "data": {
      "text/plain": [
       "<matplotlib.image.AxesImage at 0x16a959750>"
      ]
     },
     "execution_count": 2,
     "metadata": {},
     "output_type": "execute_result"
    },
    {
     "data": {
      "text/plain": [
       "<Figure size 640x480 with 1 Axes>"
      ],
      "image/png": "[encoded data removed]"
     },
     "metadata": {},
     "output_type": "display_data"
    }
   ],
   "execution_count": 2
  },
  {
   "cell_type": "code",
   "id": "fffcc4804b777f3d",
   "metadata": {
    "collapsed": false,
    "jupyter": {
     "outputs_hidden": false
    },
    "ExecuteTime": {
     "end_time": "2024-10-22T18:57:52.447818Z",
     "start_time": "2024-10-22T18:57:52.443072Z"
    }
   },
   "source": [
    "from IPython.display import Image\n",
    "Image(url=\"https://miro.medium.com/v2/resize:fit:1400/format:webp/1*uAeANQIOQPqWZnnuH-VEyw.jpeg\")"
   ],
   "outputs": [
    {
     "data": {
      "text/html": [
       "<img src=\"https://miro.medium.com/v2/resize:fit:1400/format:webp/1*uAeANQIOQPqWZnnuH-VEyw.jpeg\"/>"
      ],
      "text/plain": [
       "<IPython.core.display.Image object>"
      ]
     },
     "execution_count": 3,
     "metadata": {},
     "output_type": "execute_result"
    }
   ],
   "execution_count": 3
  },
  {
   "cell_type": "code",
   "id": "7a37f32f5ea517a9",
   "metadata": {
    "collapsed": false,
    "jupyter": {
     "outputs_hidden": false
    },
    "ExecuteTime": {
     "end_time": "2024-10-22T18:57:53.454360Z",
     "start_time": "2024-10-22T18:57:53.446429Z"
    }
   },
   "source": [
    "# ------------\n",
    "# Create Model\n",
    "# ------------\n",
    "class LeNetModel(L.LightningModule):\n",
    "    def __init__(self):\n",
    "        super().__init__()\n",
    "        self.encoder = nn.Sequential(\n",
    "            # 28 x 28 x 1\n",
    "            nn.Conv2d(in_channels=1, out_channels=6, kernel_size=5, padding=2),\n",
    "            nn.ReLU(inplace=True),\n",
    "\n",
    "            # 28 x 28 x 6\n",
    "            nn.MaxPool2d(kernel_size=2),\n",
    "\n",
    "            # 14 x 14 x 6\n",
    "            nn.Conv2d(in_channels=6, out_channels=16, kernel_size=5),\n",
    "            nn.ReLU(inplace=True),\n",
    "\n",
    "            # 10 x 10 x 16\n",
    "            nn.MaxPool2d(kernel_size=2),\n",
    "\n",
    "            # 5 x 5 x 16\n",
    "            nn.Flatten(),\n",
    "            nn.Linear(in_features=5 * 5 * 16, out_features=120), \n",
    "            nn.ReLU(inplace=True),\n",
    "\n",
    "            nn.Linear(in_features=120, out_features=84), \n",
    "            nn.ReLU(inplace=True),\n",
    "            nn.Linear(in_features=84, out_features=10)\n",
    "        )\n",
    "        self.train_accuracy = torchmetrics.Accuracy(task=\"multiclass\", num_classes=10)\n",
    "        self.val_accuracy = torchmetrics.Accuracy(task=\"multiclass\", num_classes=10)\n",
    "\n",
    "    def forward(self, x):\n",
    "        print(x.shape)\n",
    "        return self.encoder(x)\n",
    "\n",
    "    def training_step(self, batch):\n",
    "        loss = self._step(batch, step_type=\"train\")\n",
    "        return loss\n",
    "\n",
    "    def validation_step(self, batch):\n",
    "        loss = self._step(batch, step_type=\"val\")\n",
    "        return loss\n",
    "    \n",
    "    def _step(self, batch, step_type: str):\n",
    "        images, labels = batch  # images: NxRxC\n",
    "        \n",
    "        # make predictions\n",
    "        predictions = self.encoder(images)\n",
    "        \n",
    "        loss_fn = nn.CrossEntropyLoss()\n",
    "        loss = loss_fn(predictions, labels)\n",
    "        self.log(f\"{step_type}_loss\", loss)\n",
    "        \n",
    "        if step_type == \"train\":\n",
    "            self.train_accuracy(predictions, labels)\n",
    "            self.log(f\"{step_type}_accuracy\", self.train_accuracy)\n",
    "        else:\n",
    "            self.val_accuracy(predictions, labels)\n",
    "            self.log(f\"{step_type}_accuracy\", self.val_accuracy)\n",
    "        return loss\n",
    "\n",
    "    def configure_optimizers(self):\n",
    "        optimizer = torch.optim.Adam(self.parameters(), lr=0.001)\n",
    "        return optimizer"
   ],
   "outputs": [],
   "execution_count": 4
  },
  {
   "cell_type": "code",
   "id": "c01d4a31fbc939dd",
   "metadata": {
    "collapsed": false,
    "jupyter": {
     "outputs_hidden": false
    },
    "ExecuteTime": {
     "end_time": "2024-10-22T19:01:01.936921Z",
     "start_time": "2024-10-22T18:57:54.815556Z"
    }
   },
   "source": [
    "# -----------\n",
    "# Train Model\n",
    "# -----------\n",
    "model = LeNetModel()\n",
    "model.eval()\n",
    "\n",
    "train_dataloader = data.DataLoader(\n",
    "    dataset=train,\n",
    "    batch_size=32,\n",
    "    shuffle=True,\n",
    "    num_workers=8,\n",
    "    pin_memory=True,\n",
    "    persistent_workers=True,\n",
    ")\n",
    "val_dataloader = data.DataLoader(\n",
    "    dataset=val,\n",
    "    batch_size=64,\n",
    "    shuffle=False,\n",
    "    num_workers=8,\n",
    "    pin_memory=True,\n",
    "    persistent_workers=True,\n",
    ")\n",
    "trainer = L.Trainer(\n",
    "    max_epochs=20,\n",
    "    enable_progress_bar=False,\n",
    ")\n",
    "trainer.fit(\n",
    "    model=model,\n",
    "    train_dataloaders=train_dataloader,\n",
    "    val_dataloaders=val_dataloader,\n",
    ")"
   ],
   "outputs": [
    {
     "name": "stderr",
     "output_type": "stream",
     "text": [
      "GPU available: True (mps), used: True\n",
      "TPU available: False, using: 0 TPU cores\n",
      "HPU available: False, using: 0 HPUs\n",
      "\n",
      "  | Name           | Type               | Params | Mode\n",
      "-------------------------------------------------------------\n",
      "0 | encoder        | Sequential         | 61.7 K | eval\n",
      "1 | train_accuracy | MulticlassAccuracy | 0      | eval\n",
      "2 | val_accuracy   | MulticlassAccuracy | 0      | eval\n",
      "-------------------------------------------------------------\n",
      "61.7 K    Trainable params\n",
      "0         Non-trainable params\n",
      "61.7 K    Total params\n",
      "0.247     Total estimated model params size (MB)\n",
      "0         Modules in train mode\n",
      "15        Modules in eval mode\n",
      "`Trainer.fit` stopped: `max_epochs=20` reached.\n"
     ]
    }
   ],
   "execution_count": 5
  },
  {
   "cell_type": "code",
   "id": "initial_id",
   "metadata": {
    "collapsed": false,
    "jupyter": {
     "outputs_hidden": false
    }
   },
   "source": [
    "# -------------\n",
    "# Run Inference\n",
    "# -------------\n",
    "for n in [53, 54, 55]:\n",
    "    image, label = test[n]\n",
    "    softmax = nn.Softmax(dim=1)\n",
    "    images = torch.stack((image, image), dim=0)\n",
    "    pred = softmax(model.encoder(images)).detach().numpy().squeeze()\n",
    "    # show\n",
    "    plt.figure()\n",
    "    plt.imshow(image.squeeze(), cmap=\"gray\")\n",
    "    print(label)\n",
    "    print([\"{0}:{1:.3%}\".format(i, prob) for i, prob in enumerate(pred[0])])"
   ],
   "outputs": [],
   "execution_count": null
  },
  {
   "cell_type": "code",
   "id": "ac592093577915a2",
   "metadata": {
    "collapsed": false,
    "jupyter": {
     "outputs_hidden": false
    }
   },
   "source": "# tensorboard --logdir . ",
   "outputs": [],
   "execution_count": null
  }
 ],
 "metadata": {
  "kernelspec": {
   "display_name": "Python 3 (ipykernel)",
   "language": "python",
   "name": "python3"
  },
  "language_info": {
   "codemirror_mode": {
    "name": "ipython",
    "version": 3
   },
   "file_extension": ".py",
   "mimetype": "text/x-python",
   "name": "python",
   "nbconvert_exporter": "python",
   "pygments_lexer": "ipython3",
   "version": "3.10.15"
  }
 },
 "nbformat": 4,
 "nbformat_minor": 5
}
