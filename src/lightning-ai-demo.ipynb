{
 "cells": [
  {
   "cell_type": "code",
   "execution_count": 1,
   "outputs": [
    {
     "name": "stdout",
     "output_type": "stream",
     "text": [
      "Using torch 2.4.1+cpu\n",
      "Using lightning 2.4.0\n"
     ]
    }
   ],
   "source": [
    "import torch\n",
    "import torch.nn as nn\n",
    "import torch.utils.data as data\n",
    "import torchmetrics\n",
    "import torchvision as tv\n",
    "\n",
    "import lightning as L\n",
    "import matplotlib.pyplot as plt\n",
    "import numpy as np\n",
    "\n",
    "print(\"Using torch\", torch.__version__)\n",
    "print(\"Using lightning\", L.__version__)"
   ],
   "metadata": {
    "collapsed": false,
    "ExecuteTime": {
     "end_time": "2024-10-16T19:54:00.792484100Z",
     "start_time": "2024-10-16T19:53:56.509462500Z"
    }
   },
   "id": "41cd16251b6448b"
  },
  {
   "cell_type": "code",
   "execution_count": 2,
   "outputs": [
    {
     "name": "stdout",
     "output_type": "stream",
     "text": [
      "Number of training samples: 55000\n",
      "Number of validation samples: 4000\n",
      "Number of test samples: 1000\n",
      "Shape of image: torch.Size([1, 28, 28])\n",
      "Label for this image: 3\n"
     ]
    },
    {
     "data": {
      "text/plain": "<matplotlib.image.AxesImage at 0x1b4e362e9b0>"
     },
     "execution_count": 2,
     "metadata": {},
     "output_type": "execute_result"
    },
    {
     "data": {
      "text/plain": "<Figure size 640x480 with 1 Axes>",
      "image/png": "[encoded data removed]"
     },
     "metadata": {},
     "output_type": "display_data"
    }
   ],
   "source": [
    "# --------------------\n",
    "# Load Dataset - MNIST\n",
    "# --------------------\n",
    "\n",
    "# dataset: tuple[tensor of shape (N, R, C), label: int]\n",
    "dataset = tv.datasets.MNIST(root=\".\", download=True, transform=tv.transforms.ToTensor())\n",
    "train, val, test = data.random_split(dataset, [55000, 4000, 1000], torch.Generator().manual_seed(42))\n",
    "\n",
    "# visualize\n",
    "n = 44\n",
    "image, label = train[n]\n",
    "print(f\"Number of training samples: {len(train)}\")\n",
    "print(f\"Number of validation samples: {len(val)}\")\n",
    "print(f\"Number of test samples: {len(test)}\")\n",
    "print(f\"Shape of image: {image.shape}\")\n",
    "print(f\"Label for this image: {label}\")\n",
    "plt.imshow(image.squeeze(), cmap=\"gray\")"
   ],
   "metadata": {
    "collapsed": false,
    "ExecuteTime": {
     "end_time": "2024-10-16T19:54:02.025458400Z",
     "start_time": "2024-10-16T19:54:01.850993Z"
    }
   },
   "id": "5748d0b5a58da137"
  },
  {
   "cell_type": "code",
   "execution_count": 3,
   "outputs": [
    {
     "data": {
      "text/html": "<img src=\"https://www.gabormelli.com/RKB/images/1/19/2NNw.png\"/>",
      "text/plain": "<IPython.core.display.Image object>"
     },
     "execution_count": 3,
     "metadata": {},
     "output_type": "execute_result"
    }
   ],
   "source": [
    "from IPython.display import Image\n",
    "Image(url=\"https://www.gabormelli.com/RKB/images/1/19/2NNw.png\")"
   ],
   "metadata": {
    "collapsed": false,
    "ExecuteTime": {
     "end_time": "2024-10-16T19:54:04.552866800Z",
     "start_time": "2024-10-16T19:54:04.533183600Z"
    }
   },
   "id": "fffcc4804b777f3d"
  },
  {
   "cell_type": "code",
   "execution_count": 4,
   "outputs": [],
   "source": [
    "# ------------\n",
    "# Create Model\n",
    "# ------------\n",
    "class HelloModel(L.LightningModule):\n",
    "    def __init__(self, hidden_nodes: int = 64):\n",
    "        super().__init__()\n",
    "        self.encoder = nn.Sequential(\n",
    "            nn.Linear(in_features=28 * 28, out_features=hidden_nodes),\n",
    "            nn.ReLU(),\n",
    "            nn.Linear(in_features=hidden_nodes, out_features=10),\n",
    "        )\n",
    "        self.train_accuracy = torchmetrics.Accuracy(task=\"multiclass\", num_classes=10)\n",
    "        self.val_accuracy = torchmetrics.Accuracy(task=\"multiclass\", num_classes=10)\n",
    "\n",
    "    def forward(self, x):\n",
    "        return self.encoder(x)\n",
    "\n",
    "    def training_step(self, batch):\n",
    "        loss = self._step(batch, \"train\")\n",
    "        return loss\n",
    "\n",
    "    def validation_step(self, batch):\n",
    "        loss = self._step(batch, \"val\")\n",
    "        return loss\n",
    "\n",
    "    def _step(self, batch, step_type):\n",
    "        images, labels = batch  # images: NxRxC\n",
    "        n_batch = len(images)\n",
    "        images = images.view(n_batch, -1)  # images: N x (RxC)\n",
    "        \n",
    "        # make predictions\n",
    "        predictions = self.encoder(images)\n",
    "        \n",
    "        loss_fn = nn.CrossEntropyLoss()\n",
    "        loss = loss_fn(predictions, labels)\n",
    "        self.log(f\"{step_type}_loss\", loss)\n",
    "        \n",
    "        if step_type == \"train\":\n",
    "            self.train_accuracy(predictions, labels)\n",
    "            self.log(f\"{step_type}_accuracy\", self.train_accuracy)\n",
    "        else:\n",
    "            self.val_accuracy(predictions, labels)\n",
    "            self.log(f\"{step_type}_accuracy\", self.val_accuracy)\n",
    "        return loss\n",
    "\n",
    "    def configure_optimizers(self):\n",
    "        optimizer = torch.optim.Adam(self.parameters(), lr=0.001)\n",
    "        return optimizer"
   ],
   "metadata": {
    "collapsed": false,
    "ExecuteTime": {
     "end_time": "2024-10-16T19:54:06.035381100Z",
     "start_time": "2024-10-16T19:54:06.014404400Z"
    }
   },
   "id": "7a37f32f5ea517a9"
  },
  {
   "cell_type": "code",
   "execution_count": 5,
   "outputs": [
    {
     "name": "stderr",
     "output_type": "stream",
     "text": [
      "GPU available: False, used: False\n",
      "TPU available: False, using: 0 TPU cores\n",
      "HPU available: False, using: 0 HPUs\n",
      "\n",
      "  | Name           | Type               | Params | Mode \n",
      "--------------------------------------------------------------\n",
      "0 | encoder        | Sequential         | 50.9 K | train\n",
      "1 | train_accuracy | MulticlassAccuracy | 0      | train\n",
      "2 | val_accuracy   | MulticlassAccuracy | 0      | train\n",
      "--------------------------------------------------------------\n",
      "50.9 K    Trainable params\n",
      "0         Non-trainable params\n",
      "50.9 K    Total params\n",
      "0.204     Total estimated model params size (MB)\n",
      "6         Modules in train mode\n",
      "0         Modules in eval mode\n"
     ]
    },
    {
     "data": {
      "text/plain": "Sanity Checking: |          | 0/? [00:00<?, ?it/s]",
      "application/vnd.jupyter.widget-view+json": {
       "version_major": 2,
       "version_minor": 0,
       "model_id": "b18cf7b40805449c9ad590f4e11e64c8"
      }
     },
     "metadata": {},
     "output_type": "display_data"
    },
    {
     "data": {
      "text/plain": "Training: |          | 0/? [00:00<?, ?it/s]",
      "application/vnd.jupyter.widget-view+json": {
       "version_major": 2,
       "version_minor": 0,
       "model_id": "d11edebea9db4f8fa362d60c637d1bb9"
      }
     },
     "metadata": {},
     "output_type": "display_data"
    },
    {
     "data": {
      "text/plain": "Validation: |          | 0/? [00:00<?, ?it/s]",
      "application/vnd.jupyter.widget-view+json": {
       "version_major": 2,
       "version_minor": 0,
       "model_id": "97a216150cce47c5b4f41098532d757f"
      }
     },
     "metadata": {},
     "output_type": "display_data"
    },
    {
     "data": {
      "text/plain": "Validation: |          | 0/? [00:00<?, ?it/s]",
      "application/vnd.jupyter.widget-view+json": {
       "version_major": 2,
       "version_minor": 0,
       "model_id": "34d7895f03744743b526c1709718eb50"
      }
     },
     "metadata": {},
     "output_type": "display_data"
    },
    {
     "data": {
      "text/plain": "Validation: |          | 0/? [00:00<?, ?it/s]",
      "application/vnd.jupyter.widget-view+json": {
       "version_major": 2,
       "version_minor": 0,
       "model_id": "2b7e5b5f8f3f414181a7d099f8713373"
      }
     },
     "metadata": {},
     "output_type": "display_data"
    },
    {
     "data": {
      "text/plain": "Validation: |          | 0/? [00:00<?, ?it/s]",
      "application/vnd.jupyter.widget-view+json": {
       "version_major": 2,
       "version_minor": 0,
       "model_id": "0e7222f93831462b9346737b22b51aa4"
      }
     },
     "metadata": {},
     "output_type": "display_data"
    },
    {
     "data": {
      "text/plain": "Validation: |          | 0/? [00:00<?, ?it/s]",
      "application/vnd.jupyter.widget-view+json": {
       "version_major": 2,
       "version_minor": 0,
       "model_id": "fd8089ff6dbe488eb54332291b3070f3"
      }
     },
     "metadata": {},
     "output_type": "display_data"
    },
    {
     "name": "stderr",
     "output_type": "stream",
     "text": [
      "`Trainer.fit` stopped: `max_epochs=5` reached.\n"
     ]
    }
   ],
   "source": [
    "# -----------\n",
    "# Train Model\n",
    "# -----------\n",
    "model = HelloModel(hidden_nodes=64)\n",
    "\n",
    "train_dataloader = data.DataLoader(\n",
    "    dataset=train,\n",
    "    batch_size=32,\n",
    "    shuffle=True,\n",
    "    num_workers=8,\n",
    "    pin_memory=True,\n",
    "    persistent_workers=True,\n",
    ")\n",
    "val_dataloader = data.DataLoader(\n",
    "    dataset=val,\n",
    "    batch_size=64,\n",
    "    shuffle=False,\n",
    "    num_workers=8,\n",
    "    pin_memory=True,\n",
    "    persistent_workers=True,\n",
    ")\n",
    "trainer = L.Trainer(max_epochs=5)\n",
    "trainer.fit(\n",
    "    model=model,\n",
    "    train_dataloaders=train_dataloader,\n",
    "    val_dataloaders=val_dataloader,\n",
    ")"
   ],
   "metadata": {
    "collapsed": false,
    "ExecuteTime": {
     "end_time": "2024-10-16T19:55:53.894747200Z",
     "start_time": "2024-10-16T19:54:08.366500900Z"
    }
   },
   "id": "c01d4a31fbc939dd"
  },
  {
   "cell_type": "code",
   "execution_count": 6,
   "outputs": [
    {
     "name": "stdout",
     "output_type": "stream",
     "text": [
      "6\n",
      "tensor([[ -3.8477,  -7.5925,  -0.7724,  -3.7949,  -3.6642,  -0.5398,  11.4356,\n",
      "         -13.8284,  -5.6586, -11.3882]], grad_fn=<AddmmBackward0>)\n"
     ]
    },
    {
     "data": {
      "text/plain": "<Figure size 640x480 with 1 Axes>",
      "image/png": "[encoded data removed]"
     },
     "metadata": {},
     "output_type": "display_data"
    }
   ],
   "source": [
    "# -------------\n",
    "# Run Inference\n",
    "# -------------\n",
    "n = 53\n",
    "image, label = test[n]\n",
    "plt.imshow(image.squeeze(), cmap=\"gray\")\n",
    "image = image.view(1, -1)\n",
    "pred = model.encoder(image)\n",
    "print(label)\n",
    "print(pred)"
   ],
   "metadata": {
    "collapsed": false,
    "ExecuteTime": {
     "end_time": "2024-10-16T20:01:38.703610800Z",
     "start_time": "2024-10-16T20:01:38.567115700Z"
    }
   },
   "id": "initial_id"
  },
  {
   "cell_type": "code",
   "execution_count": null,
   "outputs": [],
   "source": [
    "# tensorboard --logdir ."
   ],
   "metadata": {
    "collapsed": false
   },
   "id": "ac592093577915a2"
  }
 ],
 "metadata": {
  "kernelspec": {
   "display_name": "Python 3",
   "language": "python",
   "name": "python3"
  },
  "language_info": {
   "codemirror_mode": {
    "name": "ipython",
    "version": 2
   },
   "file_extension": ".py",
   "mimetype": "text/x-python",
   "name": "python",
   "nbconvert_exporter": "python",
   "pygments_lexer": "ipython2",
   "version": "2.7.6"
  }
 },
 "nbformat": 4,
 "nbformat_minor": 5
}
